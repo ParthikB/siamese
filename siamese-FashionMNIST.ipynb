{
 "cells": [
  {
   "cell_type": "code",
   "execution_count": 10,
   "metadata": {},
   "outputs": [
    {
     "name": "stdout",
     "output_type": "stream",
     "text": [
      "PyTorch running on : GPU\n"
     ]
    }
   ],
   "source": [
    "import torch\n",
    "import torch.nn as nn\n",
    "import torch.nn.functional as F\n",
    "\n",
    "\n",
    "import import_ipynb\n",
    "from _dataLoader import *\n",
    "# from tqdm import tqdm_notebook\n",
    "# from tqdm.notebook import tqdm\n",
    "from tqdm import tqdm\n",
    "import matplotlib.pyplot as plt\n",
    "\n",
    "if torch.cuda.is_available:\n",
    "    device = torch.device('cuda:0')\n",
    "    running_on = 'GPU'\n",
    "else:\n",
    "    device = torch.device('cpu')\n",
    "    running_on = 'CPU'\n",
    "print(f'PyTorch running on : {running_on}')"
   ]
  },
  {
   "cell_type": "code",
   "execution_count": 20,
   "metadata": {},
   "outputs": [],
   "source": [
    "BATCH_SIZE = 64"
   ]
  },
  {
   "cell_type": "code",
   "execution_count": 21,
   "metadata": {},
   "outputs": [],
   "source": [
    "train_set, test_set = create_dataset(BATCH_SIZE)"
   ]
  },
  {
   "cell_type": "code",
   "execution_count": 61,
   "metadata": {},
   "outputs": [],
   "source": [
    "class Model(nn.Module):\n",
    "    \n",
    "    def __init__(self):\n",
    "        super().__init__()\n",
    "        \n",
    "        self.fc1 = nn.Linear(28*28, 128)\n",
    "        self.fc2 = nn.Linear(128, 128)        \n",
    "        self.fc3 = nn.Linear(128, 128)                \n",
    "        self.fc4 = nn.Linear(128, 10)\n",
    "        \n",
    "    def forward(self, x):\n",
    "        x      = F.relu(self.fc1(x))\n",
    "        x      = F.relu(self.fc2(x))      \n",
    "        sm     = F.relu(self.fc3(x))        \n",
    "        output = F.softmax(self.fc4(sm), dim=1)\n",
    "        return output, sm\n",
    "    \n",
    "    \n",
    "def built(model, data, train=False, EPOCHS=5):\n",
    "    \n",
    "    loss_func = nn.CrossEntropyLoss()\n",
    "    if train:\n",
    "        loss = 'inf'\n",
    "        for iter in (range(EPOCHS)):\n",
    "            for batch in tqdm(data, desc=f'Epoch -> {total_epochs-EPOCHS + iter+1}/{total_epochs} | Loss -> {loss}'):\n",
    "                sample, label = batch\n",
    "                model.zero_grad()\n",
    "\n",
    "                output, sm = model(sample.view(-1, 28*28).to(device))\n",
    "\n",
    "                loss = loss_func(output, label.to(device))\n",
    "                \n",
    "                loss.backward()\n",
    "\n",
    "                optim.step()\n",
    "\n",
    "            loss_log.append(loss)\n",
    "        return loss_log\n",
    "        \n",
    "        \n",
    "    else:\n",
    "        total   = 0\n",
    "        correct = 0\n",
    "        \n",
    "        with torch.no_grad():\n",
    "            for batch in tqdm(data):\n",
    "                sample, label = batch\n",
    "\n",
    "                output, sm = model(sample.view(-1, 28*28).to(device))\n",
    "#                 return output, label\n",
    "                for idx, i in enumerate(output):\n",
    "                    total += 1\n",
    "                    if torch.argmax(i) == label[idx]:\n",
    "                        correct += 1\n",
    "\n",
    "            accuracy = (correct/total)*100\n",
    "            return accuracy\n",
    "                \n",
    "\n",
    "    "
   ]
  },
  {
   "cell_type": "code",
   "execution_count": 66,
   "metadata": {},
   "outputs": [
    {
     "name": "stderr",
     "output_type": "stream",
     "text": [
      "Epoch -> 4/5 | Loss -> inf: 100%|█████████████████████████████████████████████| 938/938 [00:12<00:00, 73.45it/s]\n",
      "Epoch -> 5/5 | Loss -> 1.5873430967330933: 100%|██████████████████████████████| 938/938 [00:12<00:00, 74.37it/s]\n",
      "100%|█████████████████████████████████████████████████████████████████████████| 938/938 [00:20<00:00, 45.44it/s]\n"
     ]
    },
    {
     "name": "stdout",
     "output_type": "stream",
     "text": [
      "Total Epochs : 5\n",
      "Accuracy     : 80.55\n"
     ]
    },
    {
     "data": {
      "image/png": "[encoded data removed]",
      "text/plain": [
       "<Figure size 432x288 with 1 Axes>"
      ]
     },
     "metadata": {
      "needs_background": "light"
     },
     "output_type": "display_data"
    }
   ],
   "source": [
    "EPOCHS        = 2\n",
    "LEARNING_RATE = 1e-3\n",
    "CONTINUE_TRAINING = True\n",
    "\n",
    "if not CONTINUE_TRAINING:\n",
    "    model = Model().to(device)\n",
    "    optim = torch.optim.Adam(model.parameters(), lr=LEARNING_RATE)\n",
    "    total_epochs = 0\n",
    "    loss_log = []\n",
    "\n",
    "\n",
    "total_epochs += EPOCHS\n",
    "loss_log = built(model, train=True, data=train_set, EPOCHS=EPOCHS)\n",
    "\n",
    "accuracy = built(model, train=False, data=test_set)\n",
    "\n",
    "plt.plot(loss_log)\n",
    "plt.grid(1)\n",
    "plt.title(f'Final Loss : {loss_log[-1]}')\n",
    "plt.ylabel('Loss')\n",
    "plt.xlabel('Batch')\n",
    "print(f'Total Epochs : {total_epochs}')\n",
    "print(f'Accuracy     : {round(accuracy, 2)}')"
   ]
  },
  {
   "cell_type": "code",
   "execution_count": null,
   "metadata": {},
   "outputs": [],
   "source": []
  }
 ],
 "metadata": {
  "kernelspec": {
   "display_name": "Python 3",
   "language": "python",
   "name": "python3"
  },
  "language_info": {
   "codemirror_mode": {
    "name": "ipython",
    "version": 3
   },
   "file_extension": ".py",
   "mimetype": "text/x-python",
   "name": "python",
   "nbconvert_exporter": "python",
   "pygments_lexer": "ipython3",
   "version": "3.7.5"
  }
 },
 "nbformat": 4,
 "nbformat_minor": 4
}
