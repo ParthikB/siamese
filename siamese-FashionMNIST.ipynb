{
 "cells": [
  {
   "cell_type": "code",
   "execution_count": 2,
   "metadata": {},
   "outputs": [
    {
     "name": "stdout",
     "output_type": "stream",
     "text": [
      "importing Jupyter notebook from _dataLoader.ipynb\n"
     ]
    }
   ],
   "source": [
    "import torch\n",
    "import torch.nn as nn\n",
    "import torch.functional as F\n",
    "\n",
    "\n",
    "import import_ipynb\n",
    "from _dataLoader import *\n",
    "# import tdqm"
   ]
  },
  {
   "cell_type": "code",
   "execution_count": 3,
   "metadata": {},
   "outputs": [],
   "source": [
    "BATCH_SIZE = 32"
   ]
  },
  {
   "cell_type": "code",
   "execution_count": 5,
   "metadata": {},
   "outputs": [],
   "source": [
    "train_set, test_set = create_dataset(BATCH_SIZE)"
   ]
  },
  {
   "cell_type": "code",
   "execution_count": null,
   "metadata": {},
   "outputs": [],
   "source": [
    "class Model:\n",
    "    \n",
    "    def __init__(self):\n",
    "        super().__init__()\n",
    "        \n",
    "        self.fc1 = nn.Linear(28*28, 128)\n",
    "        self.fc2 = nn.Linear(128, 128)        \n",
    "        self.fc3 = nn.Linear(128, 128)                \n",
    "        self.fc4 = nn.Linear(128, 10)\n",
    "        \n",
    "    def forward(x):\n",
    "        x      = F.relu(self.fc1(x))\n",
    "        x      = F.relu(self.fc2(x))      \n",
    "        sm     = F.relu(self.fc3(x))        \n",
    "        output = F.sigmoid(self.fc4(sm), dim=1)\n",
    "        return output, sm\n",
    "    \n",
    "    \n",
    "def train(model, EPOCHS, LEARNING_RATE):\n",
    "    \n",
    "    loss_func = nn.CrossEntropyLoss()\n",
    "    optim = torch.optimizer.Adam(model.parameters(), lr=LEARNING_RATE)\n",
    "    \n",
    "    for iter in tqdm(range(EPOCHS)):\n",
    "        \n",
    "        # sample, label = dataset manipulation\n",
    "        model.zero_grad()\n",
    "        \n",
    "        output, sm = model(sample)\n",
    "        \n",
    "        loss = loss_func(output, label)\n",
    "        \n",
    "        loss.backward()\n",
    "        \n",
    "        optim.step()"
   ]
  },
  {
   "cell_type": "code",
   "execution_count": null,
   "metadata": {},
   "outputs": [],
   "source": []
  }
 ],
 "metadata": {
  "kernelspec": {
   "display_name": "Python 3",
   "language": "python",
   "name": "python3"
  },
  "language_info": {
   "codemirror_mode": {
    "name": "ipython",
    "version": 3
   },
   "file_extension": ".py",
   "mimetype": "text/x-python",
   "name": "python",
   "nbconvert_exporter": "python",
   "pygments_lexer": "ipython3",
   "version": "3.7.5"
  }
 },
 "nbformat": 4,
 "nbformat_minor": 4
}
