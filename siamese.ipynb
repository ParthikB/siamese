{
  "nbformat": 4,
  "nbformat_minor": 0,
  "metadata": {
    "colab": {
      "name": "siamese",
      "provenance": [],
      "include_colab_link": true
    },
    "kernelspec": {
      "name": "python3",
      "display_name": "Python 3"
    },
    "accelerator": "GPU"
  },
  "cells": [
    {
      "cell_type": "markdown",
      "metadata": {
        "id": "view-in-github",
        "colab_type": "text"
      },
      "source": [
        "<a href=\"https://colab.research.google.com/github/ParthikB/siamese/blob/master/siamese.ipynb\" target=\"_parent\"><img src=\"https://colab.research.google.com/assets/colab-badge.svg\" alt=\"Open In Colab\"/></a>"
      ]
    },
    {
      "cell_type": "code",
      "metadata": {
        "id": "CBV0Qfu3SRKP",
        "colab_type": "code",
        "colab": {}
      },
      "source": [
        "# from google.colab import drive\n",
        "# drive.mount('/content/drive')"
      ],
      "execution_count": 0,
      "outputs": []
    },
    {
      "cell_type": "code",
      "metadata": {
        "id": "cFW5QONoPx7y",
        "colab_type": "code",
        "colab": {
          "base_uri": "https://localhost:8080/",
          "height": 34
        },
        "outputId": "668ee248-9469-4591-a7df-f17fc55d1ebd"
      },
      "source": [
        "import warnings\n",
        "warnings.filterwarnings(\"ignore\")\n",
        "\n",
        "import torch\n",
        "import torch.nn as nn\n",
        "import torch.nn.functional as F\n",
        "import torchvision\n",
        "import torch.optim as optim\n",
        "\n",
        "import matplotlib.pyplot as plt\n",
        "from tqdm import tqdm\n",
        "\n",
        "if torch.cuda.is_available():\n",
        "  device = torch.device('cuda:0')\n",
        "  running = 'GPU'\n",
        "else:\n",
        "  device = torch.device('cpu')\n",
        "  running = 'CPU'\n",
        "print(f'Running on : {running}')"
      ],
      "execution_count": 2,
      "outputs": [
        {
          "output_type": "stream",
          "text": [
            "Running on : GPU\n"
          ],
          "name": "stdout"
        }
      ]
    },
    {
      "cell_type": "code",
      "metadata": {
        "id": "-s0oF4xPSAvQ",
        "colab_type": "code",
        "colab": {}
      },
      "source": [
        "trainData = torchvision.datasets.FashionMNIST('/content/', train=True, transform=None, target_transform=None, download=True)\n",
        "testData  = torchvision.datasets.FashionMNIST('/content/', train=False, transform=None, target_transform=None, download=True)"
      ],
      "execution_count": 0,
      "outputs": []
    },
    {
      "cell_type": "code",
      "metadata": {
        "id": "FGH_OGYLO59p",
        "colab_type": "code",
        "colab": {
          "base_uri": "https://localhost:8080/",
          "height": 333
        },
        "outputId": "77ca683c-8dd4-41c3-f6ab-7527dbe038ce"
      },
      "source": [
        "plt.imshow(trainData.train_data[0], cmap='gray')\n",
        "\n",
        "DIM      = trainData.train_data[0].shape[1]\n",
        "CHANNELS = 1 if len(trainData.train_data[0].shape) == 2 else trainData.train_data[0].shape[0]\n",
        "CLASSES  = 10\n",
        "\n",
        "print(f\"\"\"\n",
        "Label      : {trainData.train_labels[0]}\n",
        "Dimensions : {trainData.train_data[0].shape}\n",
        "\"\"\")"
      ],
      "execution_count": 4,
      "outputs": [
        {
          "output_type": "stream",
          "text": [
            "\n",
            "Label      : 9\n",
            "Dimensions : torch.Size([28, 28])\n",
            "\n"
          ],
          "name": "stdout"
        },
        {
          "output_type": "display_data",
          "data": {
            "image/png": "[encoded data removed]",
            "text/plain": [
              "<Figure size 432x288 with 1 Axes>"
            ]
          },
          "metadata": {
            "tags": []
          }
        }
      ]
    },
    {
      "cell_type": "code",
      "metadata": {
        "id": "0_EFtGvrQJNO",
        "colab_type": "code",
        "colab": {}
      },
      "source": [
        "class Net(nn.Module):\n",
        "  def __init__(self):\n",
        "    super().__init__()\n",
        "\n",
        "    '''\n",
        "    Network Structure:\n",
        "\n",
        "    input > \n",
        "    (1)Conv2D > (2)MaxPool2D > \n",
        "    (3)Conv2D > (4)MaxPool2D > \n",
        "    (5)Conv2D > (6)MaxPool2D > \n",
        "    (7)Linear > (8)LinearOut\n",
        "\n",
        "    '''\n",
        "\n",
        "    # Creating the convulutional Layers\n",
        "    self.conv1 = nn.Conv2d(in_channels=CHANNELS, out_channels=32, kernel_size=3)\n",
        "    self.conv2 = nn.Conv2d(in_channels=32, out_channels=64, kernel_size=3)\n",
        "    self.conv3 = nn.Conv2d(in_channels=64, out_channels=128, kernel_size=3)\n",
        "\n",
        "    self.flatten = None\n",
        "    # Creating a Random dummy sample to get the Flattened Dimensions\n",
        "    x = torch.randn(CHANNELS, DIM, DIM).view(-1, CHANNELS, DIM, DIM)\n",
        "    x = self.convs(x)\n",
        "\n",
        "    # Creating the Linear Layers\n",
        "    self.fc1   = nn.Linear(self.flatten, 512)\n",
        "    self.fc2   = nn.Linear(512, CLASSES)\n",
        "\n",
        "  def convs(self, x):\n",
        "    # Creating the MaxPooling Layers\n",
        "    x = F.max_pool2d(F.relu(self.conv1(x)), kernel_size=(2, 2))\n",
        "    x = F.max_pool2d(F.relu(self.conv2(x)), kernel_size=(2, 2))\n",
        "    x = F.max_pool2d(F.relu(self.conv3(x)), kernel_size=(2, 2))\n",
        "\n",
        "    if not self.flatten:\n",
        "      self.flatten = x[0].shape[0] * x[0].shape[1] * x[0].shape[2]\n",
        "    return x\n",
        "\n",
        "  # FORWARD PASS\n",
        "  def forward(self, x):\n",
        "\n",
        "    x = self.convs(x)\n",
        "    x = x.view(-1, self.flatten)\n",
        "    sm = F.relu(self.fc1(x))\n",
        "    # x = F.softmax(self.fc2(sm), dim=1)\n",
        "    x = self.fc2(sm)\n",
        "\n",
        "    return x, sm"
      ],
      "execution_count": 0,
      "outputs": []
    },
    {
      "cell_type": "code",
      "metadata": {
        "id": "lzMP6orYTpc1",
        "colab_type": "code",
        "colab": {}
      },
      "source": [
        "def train(net, train_set, EPOCHS=5, LEARNING_RATE=0.001, BATCH_SIZE=32):\n",
        "\n",
        "  x_train, y_train = train_set\n",
        "  optimizer = optim.Adam(net.parameters(), lr=LEARNING_RATE)\n",
        "  loss_func = nn.CrossEntropyLoss()\n",
        "  loss_log  = []\n",
        "  # global output\n",
        "  # global y_batch\n",
        "  for epoch in range(EPOCHS):\n",
        "    for i in tqdm(range(0, len(x_train), BATCH_SIZE)):\n",
        "        x_batch = x_train[i:i+BATCH_SIZE].view(-1, CHANNELS, DIM, DIM).to(device)\n",
        "        y_batch = y_train[i:i+BATCH_SIZE].to(device)\n",
        "\n",
        "        net.zero_grad()\n",
        "        # x_batch = x_batch\n",
        "        output, sm = net(x_batch.float())\n",
        "        # print(output.shape, y_batch.float().shape)\n",
        "        # return output, y_batch\n",
        "        loss = loss_func(output, y_batch)\n",
        "        loss.backward()\n",
        "        optimizer.step()\n",
        "    loss_log.append(loss)\n",
        "    # print(f\"Epoch : {epoch} || Loss : {loss}\")\n",
        "\n",
        "  return loss_log\n",
        "\n",
        "\n",
        "def test(net, test_set):\n",
        "  x_test, y_test = test_set\n",
        "  correct = 0\n",
        "  total   = 0\n",
        "\n",
        "  with torch.no_grad():\n",
        "    for i in tqdm(range(len(x_test))):\n",
        "      real_class = torch.argmax(y_test[i].to(device))\n",
        "      x = x_test[i].view(-1, CHANNELS, DIM, DIM).to(device)\n",
        "      pred, sm = net(x.float())\n",
        "      pred_class = torch.argmax(pred)\n",
        "\n",
        "      total += 1\n",
        "      if real_class == pred_class:\n",
        "        correct += 1\n",
        "\n",
        "  accuracy = (correct/total)*100\n",
        "  print()\n",
        "  print(f'Accuracy : {round(accuracy, 2)} %')"
      ],
      "execution_count": 0,
      "outputs": []
    },
    {
      "cell_type": "code",
      "metadata": {
        "id": "llbURljKSAql",
        "colab_type": "code",
        "colab": {}
      },
      "source": [
        "train_set = (trainData.train_data/255.0, trainData.train_labels)\n",
        "test_set  = (testData.test_data/255.0, testData.test_labels)"
      ],
      "execution_count": 0,
      "outputs": []
    },
    {
      "cell_type": "code",
      "metadata": {
        "id": "ybXdF8jLQ5BZ",
        "colab_type": "code",
        "colab": {
          "base_uri": "https://localhost:8080/",
          "height": 486
        },
        "outputId": "db7e6bf0-dca7-47af-f03e-e04f8900117f"
      },
      "source": [
        "EPOCHS        = 10\n",
        "LEARNING_RATE = 0.0001\n",
        "BATCH_SIZE    = 32\n",
        "\n",
        "net = Net().to(device)\n",
        "\n",
        "loss_log = train(net, train_set, EPOCHS, LEARNING_RATE, BATCH_SIZE)\n",
        "plt.plot(loss_log)\n",
        "\n",
        "test(net, test_set)"
      ],
      "execution_count": 89,
      "outputs": [
        {
          "output_type": "stream",
          "text": [
            "100%|██████████| 1875/1875 [00:05<00:00, 336.43it/s]\n",
            "100%|██████████| 1875/1875 [00:05<00:00, 329.30it/s]\n",
            "100%|██████████| 1875/1875 [00:05<00:00, 331.76it/s]\n",
            "100%|██████████| 1875/1875 [00:05<00:00, 337.23it/s]\n",
            "100%|██████████| 1875/1875 [00:05<00:00, 343.37it/s]\n",
            "100%|██████████| 1875/1875 [00:05<00:00, 331.92it/s]\n",
            "100%|██████████| 1875/1875 [00:05<00:00, 322.72it/s]\n",
            "100%|██████████| 1875/1875 [00:05<00:00, 331.85it/s]\n",
            "100%|██████████| 1875/1875 [00:05<00:00, 329.27it/s]\n",
            "100%|██████████| 1875/1875 [00:05<00:00, 338.23it/s]\n",
            "100%|██████████| 10000/10000 [00:05<00:00, 1683.99it/s]\n"
          ],
          "name": "stderr"
        },
        {
          "output_type": "stream",
          "text": [
            "\n",
            "Accuracy : 11.69 %\n"
          ],
          "name": "stdout"
        },
        {
          "output_type": "display_data",
          "data": {
            "image/png": "[encoded data removed]",
            "text/plain": [
              "<Figure size 432x288 with 1 Axes>"
            ]
          },
          "metadata": {
            "tags": []
          }
        }
      ]
    },
    {
      "cell_type": "code",
      "metadata": {
        "id": "Z6jQoo81kS7F",
        "colab_type": "code",
        "colab": {
          "base_uri": "https://localhost:8080/",
          "height": 68
        },
        "outputId": "08dc13d8-9f92-4b6a-bda2-e7d9b2d32173"
      },
      "source": [
        "x_test, y_test = train_set\n",
        "correct = 0\n",
        "total   = 0\n",
        "\n",
        "with torch.no_grad():\n",
        "  for i in tqdm(range(len(x_test))):\n",
        "    real_class = torch.argmax(y_test[i].to(device))\n",
        "    x = x_test[i].view(-1, CHANNELS, DIM, DIM).to(device)\n",
        "    pred, sm = net(x.float())\n",
        "    pred_class = torch.argmax(pred)\n",
        "    # print(real_class)\n",
        "    # print(pred_class)\n",
        "    # break\n",
        "    total += 1\n",
        "    if real_class == pred_class:\n",
        "      correct += 1\n",
        "\n",
        "accuracy = (correct/total)*100\n",
        "print(f'\\nAccuracy : {round(accuracy, 2)} %')"
      ],
      "execution_count": 90,
      "outputs": [
        {
          "output_type": "stream",
          "text": [
            "100%|██████████| 60000/60000 [00:37<00:00, 1583.51it/s]"
          ],
          "name": "stderr"
        },
        {
          "output_type": "stream",
          "text": [
            "\n",
            "Accuracy : 11.85 %\n"
          ],
          "name": "stdout"
        },
        {
          "output_type": "stream",
          "text": [
            "\n"
          ],
          "name": "stderr"
        }
      ]
    }
  ]
}