{
 "cells": [
  {
   "cell_type": "code",
   "execution_count": 2,
   "metadata": {},
   "outputs": [],
   "source": [
    "import torch\n",
    "import torchvision\n",
    "from torchvision import datasets, transforms\n",
    "\n",
    "import os\n",
    "import matplotlib.pyplot as plt"
   ]
  },
  {
   "cell_type": "code",
   "execution_count": 3,
   "metadata": {},
   "outputs": [],
   "source": [
    "ROOT = os.curdir + '/dataset'\n",
    "\n",
    "train = datasets.FashionMNIST(ROOT, train=True, download=True,\n",
    "                              transform=transforms.Compose([transforms.ToTensor()]))\n",
    "\n",
    "test  = datasets.FashionMNIST(ROOT, train=True, download=True,\n",
    "                      transform=transforms.Compose([transforms.ToTensor()]))"
   ]
  },
  {
   "cell_type": "code",
   "execution_count": 8,
   "metadata": {},
   "outputs": [],
   "source": [
    "BATCH_SIZE = 10\n",
    "def create_dataset(BATCH_SIZE, train_shuffle=True, test_shuffle=False):\n",
    "    train_set = torch.utils.data.DataLoader(train, batch_size=BATCH_SIZE, shuffle=train_shuffle)\n",
    "    test_set  = torch.utils.data.DataLoader(test,  batch_size=BATCH_SIZE, shuffle=test_shuffle)\n",
    "    return train_set, test_set\n",
    "\n",
    "\n",
    "train_set, test_set = create_dataset(BATCH_SIZE, train_shuffle=True, test_shuffle=False)"
   ]
  },
  {
   "cell_type": "code",
   "execution_count": 10,
   "metadata": {},
   "outputs": [
    {
     "data": {
      "image/png": "[encoded data removed]",
      "text/plain": [
       "<Figure size 432x288 with 1 Axes>"
      ]
     },
     "metadata": {
      "needs_background": "light"
     },
     "output_type": "display_data"
    }
   ],
   "source": [
    "if __name__ == '__main__':\n",
    "    item = 3\n",
    "    for i in train_set:\n",
    "        sample, label = i[0][item], i[1][item]\n",
    "        break\n",
    "\n",
    "    sample = sample.reshape(28, 28)\n",
    "    plt.imshow(sample, cmap='gray')\n",
    "    plt.title(str(label))"
   ]
  },
  {
   "cell_type": "code",
   "execution_count": null,
   "metadata": {},
   "outputs": [],
   "source": []
  }
 ],
 "metadata": {
  "kernelspec": {
   "display_name": "Python 3",
   "language": "python",
   "name": "python3"
  },
  "language_info": {
   "codemirror_mode": {
    "name": "ipython",
    "version": 3
   },
   "file_extension": ".py",
   "mimetype": "text/x-python",
   "name": "python",
   "nbconvert_exporter": "python",
   "pygments_lexer": "ipython3",
   "version": "3.7.5"
  }
 },
 "nbformat": 4,
 "nbformat_minor": 4
}
